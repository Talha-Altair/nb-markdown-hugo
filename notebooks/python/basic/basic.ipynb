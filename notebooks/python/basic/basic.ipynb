{
 "cells": [
  {
   "cell_type": "code",
   "execution_count": null,
   "metadata": {},
   "outputs": [
    {
     "ename": "",
     "evalue": "",
     "output_type": "error",
     "traceback": [
      "\u001b[1;31mFailed to start the Kernel. \n",
      "Kernel tar (Python 3.10.0) is not usable. Check the Jupyter output tab for more information. \n",
      "View Jupyter <a href='command:jupyter.viewOutput'>log</a> for further details."
     ]
    }
   ],
   "source": [
    "print(\"basic\")"
   ]
  }
 ],
 "metadata": {
  "interpreter": {
   "hash": "3aae725dfb0406f449e7dffe4e22e5a9e7c6440427d7fe00f5669266373de841"
  },
  "kernelspec": {
   "display_name": "Python 3.10.0 64-bit ('tar': conda)",
   "language": "python",
   "name": "python3"
  },
  "language_info": {
   "name": "python",
   "version": "3.8.5"
  },
  "orig_nbformat": 4
 },
 "nbformat": 4,
 "nbformat_minor": 2
}

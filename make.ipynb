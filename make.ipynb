{
 "cells": [
  {
   "cell_type": "markdown",
   "metadata": {},
   "source": [
    "# Script To Make Site\n",
    "\n",
    "This script converts all jupyter notebooks into markdown files, then converts all markdown files (jupyter and note) into a website ready to push to github."
   ]
  },
  {
   "cell_type": "markdown",
   "metadata": {},
   "source": [
    "## Preliminaries"
   ]
  },
  {
   "cell_type": "code",
   "execution_count": 65,
   "metadata": {
    "scrolled": true
   },
   "outputs": [],
   "source": [
    "# Load libraries\n",
    "import os\n",
    "import re\n",
    "import fileinput\n",
    "import sys\n",
    "from glob import glob\n",
    "import shutil\n",
    "import datetime\n",
    "\n",
    "path = 'content/'"
   ]
  },
  {
   "cell_type": "markdown",
   "metadata": {},
   "source": [
    "## Find All Jupyter Notebooks"
   ]
  },
  {
   "cell_type": "code",
   "execution_count": 66,
   "metadata": {},
   "outputs": [],
   "source": [
    "# Find all jupyter notebooks in all content folders\n",
    "all_ipynb_files = [os.path.join(root, name)\n",
    "                   for root, dirs, files in os.walk(path)\n",
    "                       for name in files\n",
    "                           if name.endswith((\".ipynb\"))]\n",
    "\n",
    "# Remove all notebooks from checkpoint folders\n",
    "ipynb_files = [ x for x in all_ipynb_files if \".ipynb_checkpoints\" not in x ]"
   ]
  },
  {
   "cell_type": "markdown",
   "metadata": {},
   "source": [
    "## Convert All Jupyter Notebooks To Markdown"
   ]
  },
  {
   "cell_type": "code",
   "execution_count": 67,
   "metadata": {},
   "outputs": [],
   "source": [
    "# For each file\n",
    "for file in ipynb_files:\n",
    "    # Convert into markdown\n",
    "    os.system('jupyter nbconvert --to markdown {file}'.format(file=file))"
   ]
  },
  {
   "cell_type": "markdown",
   "metadata": {},
   "source": [
    "## Add Template meta data to each markdown file"
   ]
  },
  {
   "cell_type": "code",
   "execution_count": 68,
   "metadata": {},
   "outputs": [],
   "source": [
    "date_time = datetime.datetime.now()\n",
    "author = \"Altair\"\n",
    "\n",
    "md_files = [ x.replace(\".ipynb\", \".md\") for x in ipynb_files]\n",
    "\n",
    "\n",
    "for single_file in md_files:\n",
    "\n",
    "    title = single_file.split('/')[-1].split('.')[0]\n",
    "\n",
    "    template_metadata = f\"\"\"---\n",
    "title: \"{title}\"\n",
    "author: \"{author}\"\n",
    "date: 2021-07-07T00:00:00-07:00\n",
    "type: article\n",
    "draft: false\n",
    "--- \\n\n",
    "\"\"\"\n",
    "\n",
    "    # Read the file\n",
    "    with open(single_file, 'r') as f:\n",
    "        content = f.read()\n",
    "        new_content = template_metadata + content\n",
    "        with open(single_file, \"w\") as f:\n",
    "            f.write(new_content)\n",
    "        \n",
    "\n",
    "\n"
   ]
  }
 ],
 "metadata": {
  "kernelspec": {
   "display_name": "Python 3",
   "language": "python",
   "name": "python3"
  },
  "language_info": {
   "codemirror_mode": {
    "name": "ipython",
    "version": 3
   },
   "file_extension": ".py",
   "mimetype": "text/x-python",
   "name": "python",
   "nbconvert_exporter": "python",
   "pygments_lexer": "ipython3",
   "version": "3.9.4"
  }
 },
 "nbformat": 4,
 "nbformat_minor": 2
}
